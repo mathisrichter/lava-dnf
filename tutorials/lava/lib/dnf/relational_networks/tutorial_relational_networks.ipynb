{
 "cells": [
  {
   "attachments": {},
   "cell_type": "markdown",
   "metadata": {
    "pycharm": {
     "name": "#%% md\n"
    }
   },
   "source": [
    "*Copyright (C) 2021 Intel Corporation*<br>\n",
    "*SPDX-License-Identifier: BSD-3-Clause*<br>\n",
    "*See: https://spdx.org/licenses/*\n",
    "\n",
    "---\n",
    "\n",
    "# Relational networks\n",
    "\n",
    "This tutorial demonstrates how to set up a relational network with lava-dnf.\n",
    "\n",
    "Relational networks are a network topology composed of DNFs that enables representing relational features, for example the difference/error between two represented values. In DFT, relational networks are one of the major building blocks of larger architectures, most often employed to implement coordinate transforms between different spaces (e.g., retinal vs. allocentric visual space).\n",
    "\n",
    "![Diagram relational network](./diagram_relational_network.png)\n",
    "\n",
    "The figure above illustrates the network topology. Two 1D DNFs, ‘target’ and ‘reference’, are input into a 2D-dimensional ‘transformation’ DNF that represents all possible combinations of the positions in the two DNFs. The 1D DNFs project into the ‘transformation’ DNF, forming subthreshold ridges of activation; only regions in which the ridges overlap form peaks. This activation projects along the diagonal onto the ‘relational’ DNF. The peaks that form there represent the peak-positions in the ‘target’ DNF relative to the position of the peak-position in the ‘reference’ DNF (center of the ‘relational’ DNF).\n",
    "The diagram visualizes an example with one-dimensional input and output DNFs but the same concept can be applied to higher-dimensional input/output.\n",
    "\n",
    "In lava-dnf, relational networks can be constructed from basic Lava Processes, like the LIF Processes, and connectivity structures that can be generated with the `connect` function from lava-dnf. The following example demonstrates a relational network with one-dimensional input."
   ]
  },
  {
   "cell_type": "code",
   "execution_count": 1,
   "metadata": {
    "scrolled": false,
    "pycharm": {
     "name": "#%%\n"
    }
   },
   "outputs": [],
   "source": [
    "import numpy as np\n",
    "import matplotlib.pyplot as plt\n",
    "\n",
    "from lava.magma.core.run_configs import Loihi1SimCfg\n",
    "from lava.magma.core.run_conditions import RunSteps\n",
    "from lava.proc.lif.process import LIF\n",
    "from lava.proc.monitor.process import Monitor\n",
    "\n",
    "from lava.lib.dnf.connect.connect import connect\n",
    "from lava.lib.dnf.inputs.gauss_pattern.process import GaussPattern\n",
    "from lava.lib.dnf.inputs.rate_code_spike_gen.process import \\\n",
    "    RateCodeSpikeGen\n",
    "from lava.lib.dnf.operations.operations import (\n",
    "    Weights,\n",
    "    ExpandDims,\n",
    "    ReorderDims,\n",
    "    ReduceAlongDiagonal,\n",
    "    ExpandAlongDiagonal,\n",
    "    Flip)"
   ]
  },
  {
   "cell_type": "code",
   "execution_count": null,
   "metadata": {
    "pycharm": {
     "name": "#%%\n"
    },
    "scrolled": true
   },
   "outputs": [],
   "source": [
    "shape = (15,)\n",
    "shape_relational = tuple(np.array(shape) * 2 - 1)\n",
    "num_time_steps = 100\n",
    "\n",
    "# Set up Processes\n",
    "gauss_target = GaussPattern(shape=shape, amplitude=5000, mean=8, stddev=0.1)\n",
    "sg_target = RateCodeSpikeGen(shape=shape)\n",
    "\n",
    "gauss_reference = GaussPattern(shape=shape, amplitude=5000, mean=5, stddev=0.1)\n",
    "sg_reference = RateCodeSpikeGen(shape=shape)\n",
    "\n",
    "target = LIF(shape=shape, du=409, dv=2045, vth=200)\n",
    "reference = LIF(shape=shape, du=409, dv=2045, vth=200)\n",
    "transformation = LIF(shape=shape + shape, du=409, dv=2045, vth=200)\n",
    "relational = LIF(shape=shape_relational, du=409, dv=2045, vth=200)\n",
    "\n",
    "# Connect Processes\n",
    "gauss_target.a_out.connect(sg_target.a_in)\n",
    "connect(sg_target.s_out, target.a_in, ops=[Weights(25)])\n",
    "\n",
    "gauss_reference.a_out.connect(sg_reference.a_in)\n",
    "connect(sg_reference.s_out, reference.a_in, ops=[Weights(25)])\n",
    "\n",
    "connect(target.s_out, transformation.a_in,\n",
    "        ops=[ExpandDims(new_dims_shape=shape[0]),\n",
    "             Weights(10)])\n",
    "connect(reference.s_out, transformation.a_in,\n",
    "        ops=[Flip(),\n",
    "             ExpandDims(new_dims_shape=shape[0]),\n",
    "             ReorderDims(order=(1, 0)),\n",
    "             Weights(10)])\n",
    "weights_reduce_diag = connect(transformation.s_out, relational.a_in,\n",
    "                              ops=[ReduceAlongDiagonal(), Weights(25)])\n",
    "weights_expand_diag = connect(relational.s_out, transformation.a_in,\n",
    "                              ops=[ExpandAlongDiagonal(), Weights(5)])\n",
    "\n",
    "# Set up monitors\n",
    "monitor_target = Monitor()\n",
    "monitor_target.probe(target.s_out, num_time_steps)\n",
    "\n",
    "monitor_reference = Monitor()\n",
    "monitor_reference.probe(reference.s_out, num_time_steps)\n",
    "\n",
    "monitor_transformation = Monitor()\n",
    "monitor_transformation.probe(transformation.v, num_time_steps)\n",
    "\n",
    "monitor_relational = Monitor()\n",
    "monitor_relational.probe(relational.s_out, num_time_steps)\n",
    "\n",
    "# Execution\n",
    "try:\n",
    "    target.run(condition=RunSteps(num_steps=num_time_steps),\n",
    "               run_cfg=Loihi1SimCfg(select_tag='bit_accurate_loihi'))\n",
    "\n",
    "    # Extract data from monitors\n",
    "    data_target = monitor_target.get_data() \\\n",
    "        [target.name][target.s_out.name].astype(float)\n",
    "\n",
    "    data_reference = monitor_reference.get_data() \\\n",
    "        [reference.name][reference.s_out.name].astype(float)\n",
    "\n",
    "    data_transformation = monitor_transformation.get_data() \\\n",
    "        [transformation.name][transformation.v.name].astype(float)\n",
    "\n",
    "    data_relational = monitor_relational.get_data() \\\n",
    "        [relational.name][relational.s_out.name].astype(float)\n",
    "\n",
    "    data_weights_reduce_diag = \\\n",
    "        weights_reduce_diag.weights.get().astype(float)\n",
    "    data_weights_expand_diag = \\\n",
    "        weights_expand_diag.weights.get().astype(float)\n",
    "finally:\n",
    "    target.stop()"
   ]
  },
  {
   "cell_type": "code",
   "execution_count": null,
   "metadata": {
    "scrolled": false,
    "pycharm": {
     "name": "#%%\n"
    }
   },
   "outputs": [],
   "source": [
    "# Plot data\n",
    "_num_neurons = shape[0]\n",
    "_num_neurons_relational = shape_relational[0]\n",
    "\n",
    "plt.figure(figsize=(10, 10))\n",
    "ax0 = plt.subplot(4, 1, 1)\n",
    "ax0.plot(np.mean(data_target[50:70, :], axis=0))\n",
    "ax0.set_xlabel('Target neuron idx')\n",
    "ax0.set_ylabel('Spike rate')\n",
    "ax0.set_xticks(range(_num_neurons))\n",
    "ax0.set_title('Target')\n",
    "\n",
    "ax1 = plt.subplot(4, 1, 2)\n",
    "ax1.plot(np.mean(data_reference[50:70, :], axis=0))\n",
    "ax1.set_xlabel('Reference neuron idx')\n",
    "ax1.set_ylabel('Spike rate')\n",
    "ax1.set_xticks(range(_num_neurons))\n",
    "ax1.set_title('Reference')\n",
    "\n",
    "ax2 = plt.subplot(4, 1, 3)\n",
    "ax2.imshow(np.mean(data_transformation[50:70, :],\n",
    "                   axis=0).reshape(shape + shape))\n",
    "ax2.set_title('Transformation (Voltage)')\n",
    "ax2.set_xlabel('Reference position')\n",
    "ax2.set_ylabel('Target position')\n",
    "ax2.set_xticks(range(0, _num_neurons, 5))\n",
    "ax2.set_yticks(range(0, _num_neurons, 5))\n",
    "\n",
    "ax3 = plt.subplot(4, 1, 4)\n",
    "ax3.plot(np.mean(data_relational[50:70], axis=0))\n",
    "ax3.set_xlabel('Relative position')\n",
    "ax3.set_ylabel('Spike rate')\n",
    "ax3.set_title('Relational')\n",
    "plt.xticks(ticks=range(_num_neurons_relational),\n",
    "           labels=range(-int(_num_neurons_relational/2),\n",
    "                        int(_num_neurons_relational/2) + 1))\n",
    "\n",
    "plt.tight_layout()\n",
    "plt.show()"
   ]
  },
  {
   "cell_type": "markdown",
   "metadata": {
    "pycharm": {
     "name": "#%% md\n"
    }
   },
   "source": [
    "## Bidirectional connectivity\n",
    "The diagram at the beginning of this tutorial depicts a relational network with connections that flow in only one direction, toward the relational DNF. Relational networks can also be set up with bidirectional connectivity, coupling all four DNFs in both directions. This enables reading out the target (or reference) position given both the relative position and the reference (or target) position.\n",
    "\n",
    "The Lava implementation demonstrates how to set up connectivity from the relational DNF to the transformation DNF, which results in the faint diagonal line in the plot of the transformation DNF. A complete bidirectional DNF would additionally have connections from the transformation DNF to the target and reference DNFs."
   ]
  },
  {
   "cell_type": "markdown",
   "metadata": {
    "pycharm": {
     "name": "#%% md\n"
    }
   },
   "source": [
    "## Diagonal projection operations\n",
    "\n",
    "The two operations that enable the diagonal projections between the relational DNF and the transformation DNF are the `ReduceAlongDiagonal` (toward relational DNF) and `ExpandAlongDiagonal` (toward transformation DNF). The connectivity matrix produced by the operation `ReduceAlongDiagonal` sums the spike output of the transformation DNF along its diagonaland is shown below for the network demonstrated above."
   ]
  },
  {
   "cell_type": "code",
   "execution_count": null,
   "metadata": {
    "pycharm": {
     "name": "#%%\n"
    }
   },
   "outputs": [],
   "source": [
    "plt.figure(figsize=(14, 14))\n",
    "plt.imshow(data_weights_reduce_diag)\n",
    "plt.title('Connectivity matrix (diagonal read-out)')\n",
    "plt.xlabel('Neuron idx transformation DNF')\n",
    "plt.ylabel('Neuron idx relational DNF')"
   ]
  },
  {
   "cell_type": "markdown",
   "metadata": {
    "pycharm": {
     "name": "#%% md\n"
    }
   },
   "source": [
    "The operation `ExpandAlongDiagonal` produces a connectivity matrix that projects the spike output of the relational DNF into the transformation DNF along its diagonal. The connectivity matrix is shown below."
   ]
  },
  {
   "cell_type": "code",
   "execution_count": null,
   "metadata": {
    "pycharm": {
     "name": "#%%\n"
    }
   },
   "outputs": [],
   "source": [
    "plt.figure(figsize=(14, 14))\n",
    "plt.imshow(data_weights_expand_diag)\n",
    "plt.title('Connectivity matrix (diagonal write-in)')\n",
    "plt.xlabel('Neuron idx relational DNF')\n",
    "plt.ylabel('Neuron idx transformation DNF')"
   ]
  }
 ],
 "metadata": {
  "kernelspec": {
   "display_name": "Python 3 (ipykernel)",
   "language": "python",
   "name": "python3"
  },
  "language_info": {
   "codemirror_mode": {
    "name": "ipython",
    "version": 3
   },
   "file_extension": ".py",
   "mimetype": "text/x-python",
   "name": "python",
   "nbconvert_exporter": "python",
   "pygments_lexer": "ipython3",
   "version": "3.8.8"
  }
 },
 "nbformat": 4,
 "nbformat_minor": 1
}